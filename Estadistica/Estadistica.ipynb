{
  "nbformat": 4,
  "nbformat_minor": 0,
  "metadata": {
    "colab": {
      "provenance": []
    },
    "kernelspec": {
      "name": "python3",
      "display_name": "Python 3"
    },
    "language_info": {
      "name": "python"
    }
  },
  "cells": [
    {
      "cell_type": "code",
      "execution_count": null,
      "metadata": {
        "id": "LRA_BG1I85IT"
      },
      "outputs": [],
      "source": [
        "import pandas as pd\n",
        "import matplotlib.pyplot as plt\n",
        "import seaborn as sns\n",
        "\n",
        "# Cargar datos desde el archivo CSV\n",
        "archivo_csv = '/content/VENTAS.csv'\n",
        "datos = pd.read_csv(archivo_csv)\n",
        "\n",
        "# Mostrar una vista previa de los datos y nombres de columnas\n",
        "print(datos.head())\n",
        "print(\"Nombres de columnas:\", datos.columns)\n",
        "\n",
        "# Eliminar espacios en blanco alrededor de los nombres de las columnas\n",
        "datos.columns = datos.columns.str.strip()\n",
        "\n",
        "# Verificar la existencia de la columna 'Categorias'\n",
        "if 'Categorias' not in datos.columns:\n",
        "    raise ValueError(\"La columna 'Categorias' no está presente en los datos.\")\n",
        "\n",
        "# Verificar la existencia de la columna 'Valores'\n",
        "if 'Valores' not in datos.columns:\n",
        "    raise ValueError(\"La columna 'Valores' no está presente en los datos.\")\n",
        "else:\n",
        "    # Verificar el tipo de datos en la columna 'Valores'\n",
        "    print(\"Tipo de datos en la columna 'Valores':\", datos['Valores'].dtype)\n",
        "\n",
        "    # Asegurar que la columna 'Valores' sea de tipo numérico\n",
        "    datos['Valores'] = pd.to_numeric(datos['Valores'], errors='coerce')\n",
        "\n",
        "    # Visualizar gráficos de estadísticas (ejemplo con seaborn)\n",
        "    sns.set(style=\"whitegrid\")\n",
        "    plt.figure(figsize=(10, 6))\n",
        "\n",
        "    # Ajustar el nombre de la columna según tus datos\n",
        "    sns.barplot(x='Categorias', y='Valores', data=datos)\n",
        "\n",
        "    # Ajustar el título y etiquetas del eje X e Y según tus necesidades\n",
        "    plt.title('Gráfico de Ventas por Categorías')\n",
        "    plt.xlabel('Categorías')\n",
        "    plt.ylabel('Ventas')\n",
        "\n",
        "    # Ajustar el diseño para evitar solapamiento de etiquetas en el eje X\n",
        "    plt.xticks(rotation=45, ha='right')\n",
        "\n",
        "    # Mostrar el gráfico\n",
        "    plt.show()"
      ]
    },
    {
      "cell_type": "code",
      "source": [
        "import pandas as pd\n",
        "import matplotlib.pyplot as plt\n",
        "import seaborn as sns\n",
        "import sys  # Importación necesaria para sys.exit()\n",
        "\n",
        "# Cargar datos desde el archivo CSV\n",
        "archivo_csv = '/content/VENTAS.csv'\n",
        "datos = pd.read_csv(archivo_csv)\n",
        "\n",
        "# Mostrar una vista previa de los datos y nombres de columnas\n",
        "print(datos.head())\n",
        "print(\"Nombres de columnas:\", datos.columns)\n",
        "\n",
        "# Eliminar espacios en blanco alrededor de los nombres de las columnas\n",
        "datos.columns = datos.columns.str.strip()\n",
        "\n",
        "# Verificar la existencia de la columna 'Categorias'\n",
        "if 'Categorias' not in datos.columns:\n",
        "    print(\"Error: La columna 'Categorias' no está presente en los datos.\")\n",
        "    sys.exit()\n",
        "\n",
        "# Verificar la existencia de la columna 'Valores'\n",
        "if 'Valores' not in datos.columns:\n",
        "    print(\"Error: La columna 'Valores' no está presente en los datos.\")\n",
        "    sys.exit()\n",
        "else:\n",
        "    # Verificar el tipo de datos en la columna 'Valores'\n",
        "    print(\"Tipo de datos en la columna 'Valores':\", datos['Valores'].dtype)\n",
        "\n",
        "    # Asegurar que la columna 'Valores' sea de tipo numérico\n",
        "    datos['Valores'] = pd.to_numeric(datos['Valores'], errors='coerce')\n",
        "\n",
        "    # Visualizar gráficos de estadísticas (ejemplo con seaborn)\n",
        "    sns.set(style=\"whitegrid\")\n",
        "    plt.figure(figsize=(10, 6))\n",
        "\n",
        "    # Ajustar el nombre de la columna según tus datos\n",
        "    sns.barplot(x='Categorias', y='Valores', data=datos)\n",
        "\n",
        "    # Ajustar el título y etiquetas del eje X e Y según tus necesidades\n",
        "    plt.title('Gráfico de Ventas por Categorías')\n",
        "    plt.xlabel('Categorías')\n",
        "    plt.ylabel('Ventas')\n",
        "\n",
        "    # Ajustar el diseño para evitar solapamiento de etiquetas en el eje X\n",
        "    plt.xticks(rotation=45, ha='right')\n",
        "\n",
        "    # Mostrar el gráfico\n",
        "    plt.show()"
      ],
      "metadata": {
        "colab": {
          "base_uri": "https://localhost:8080/",
          "height": 311
        },
        "id": "lcJ7I-uqyix1",
        "outputId": "52893e08-7bd6-47f9-bc6f-d95fa28b0232"
      },
      "execution_count": 11,
      "outputs": [
        {
          "output_type": "stream",
          "name": "stdout",
          "text": [
            "              AÑO;MES ;VENTAS;;\n",
            "0     2023;ENERO; 25.000.000 ;;\n",
            "1  2023;FEBRERO ; 12.000.000 ;;\n",
            "2     2023;MARZO; 20.000.000 ;;\n",
            "3     2023;ABRIL; 18.000.000 ;;\n",
            "4      2023;MAYO; 15.000.000 ;;\n",
            "Nombres de columnas: Index(['AÑO;MES ;VENTAS;;'], dtype='object')\n",
            "Error: La columna 'Categorias' no está presente en los datos.\n"
          ]
        },
        {
          "output_type": "error",
          "ename": "SystemExit",
          "evalue": "ignored",
          "traceback": [
            "An exception has occurred, use %tb to see the full traceback.\n",
            "\u001b[0;31mSystemExit\u001b[0m\n"
          ]
        },
        {
          "output_type": "stream",
          "name": "stderr",
          "text": [
            "/usr/local/lib/python3.10/dist-packages/IPython/core/interactiveshell.py:3561: UserWarning: To exit: use 'exit', 'quit', or Ctrl-D.\n",
            "  warn(\"To exit: use 'exit', 'quit', or Ctrl-D.\", stacklevel=1)\n"
          ]
        }
      ]
    },
    {
      "cell_type": "code",
      "source": [
        "import pandas as pd\n",
        "import matplotlib.pyplot as plt\n",
        "import seaborn as sns\n",
        "import sys\n",
        "\n",
        "# Cargar datos desde el archivo CSV\n",
        "archivo_csv = '/content/VENTAS.csv'\n",
        "datos = pd.read_csv(archivo_csv)\n",
        "\n",
        "# Mostrar una vista previa de los datos y nombres de columnas\n",
        "print(datos.head())\n",
        "print(\"Nombres de columnas:\", datos.columns)\n",
        "\n",
        "# Eliminar espacios en blanco alrededor de los nombres de las columnas\n",
        "datos.columns = datos.columns.str.strip()\n",
        "\n",
        "# Verificar la existencia de la columna 'Categorias'\n",
        "if 'Categorias' not in datos.columns:\n",
        "    print(\"Error: La columna 'Categorias' no está presente en los datos.\")\n",
        "    sys.exit()\n",
        "\n",
        "# Verificar la existencia de la columna 'Valores'\n",
        "if 'Valores' not in datos.columns:\n",
        "    print(\"Error: La columna 'Valores' no está presente en los datos.\")\n",
        "    sys.exit()\n",
        "else:\n",
        "    # Verificar el tipo de datos en la columna 'Valores'\n",
        "    print(\"Tipo de datos en la columna 'Valores':\", datos['Valores'].dtype)\n",
        "\n",
        "    # Asegurar que la columna 'Valores' sea de tipo numérico\n",
        "    datos['Valores'] = pd.to_numeric(datos['Valores'], errors='coerce')\n",
        "\n",
        "    # Visualizar gráficos de estadísticas\n",
        "    sns.set(style=\"whitegrid\")\n",
        "\n",
        "    # Gráfico de barras\n",
        "    plt.figure(figsize=(15, 6))\n",
        "    plt.subplot(1, 2, 1)\n",
        "    sns.barplot(x='Categorias', y='Valores', data=datos)\n",
        "    plt.title('Gráfico de Barras - Ventas por Categorías')\n",
        "    plt.xlabel('Categorías')\n",
        "    plt.ylabel('Ventas')\n",
        "\n",
        "    # Gráfico de torta\n",
        "    plt.subplot(1, 2, 2)\n",
        "    datos_por_categoria = datos.groupby('Categorias')['Valores'].sum()\n",
        "    plt.pie(datos_por_categoria, labels=datos_por_categoria.index, autopct='%1.1f%%', startangle=90)\n",
        "    plt.title('Gráfico de Torta - Distribución de Ventas por Categorías')\n",
        "\n",
        "    # Ajustar el diseño para evitar solapamiento de etiquetas en el eje X\n",
        "    plt.xticks(rotation=45, ha='right')\n",
        "\n",
        "    # Mostrar los gráficos\n",
        "    plt.tight_layout()\n",
        "    plt.show()\n",
        "\n",
        "# Input para evitar que el kernel de Google Colab se cierre automáticamente\n",
        "input(\"Presiona Enter para salir...\")"
      ],
      "metadata": {
        "colab": {
          "base_uri": "https://localhost:8080/",
          "height": 311
        },
        "id": "sEXyDDmrze5S",
        "outputId": "038c5c63-9686-434f-fffd-1688cf4bfac2"
      },
      "execution_count": 13,
      "outputs": [
        {
          "output_type": "stream",
          "name": "stdout",
          "text": [
            "              AÑO;MES ;VENTAS;;\n",
            "0     2023;ENERO; 25.000.000 ;;\n",
            "1  2023;FEBRERO ; 12.000.000 ;;\n",
            "2     2023;MARZO; 20.000.000 ;;\n",
            "3     2023;ABRIL; 18.000.000 ;;\n",
            "4      2023;MAYO; 15.000.000 ;;\n",
            "Nombres de columnas: Index(['AÑO;MES ;VENTAS;;'], dtype='object')\n",
            "Error: La columna 'Categorias' no está presente en los datos.\n"
          ]
        },
        {
          "output_type": "error",
          "ename": "SystemExit",
          "evalue": "ignored",
          "traceback": [
            "An exception has occurred, use %tb to see the full traceback.\n",
            "\u001b[0;31mSystemExit\u001b[0m\n"
          ]
        },
        {
          "output_type": "stream",
          "name": "stderr",
          "text": [
            "/usr/local/lib/python3.10/dist-packages/IPython/core/interactiveshell.py:3561: UserWarning: To exit: use 'exit', 'quit', or Ctrl-D.\n",
            "  warn(\"To exit: use 'exit', 'quit', or Ctrl-D.\", stacklevel=1)\n"
          ]
        }
      ]
    }
  ]
}